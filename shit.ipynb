{
 "cells": [
  {
   "cell_type": "code",
   "execution_count": 3,
   "metadata": {},
   "outputs": [
    {
     "name": "stdout",
     "output_type": "stream",
     "text": [
      "[[ 0.42382812  0.        ]\n",
      " [ 0.54492188  0.        ]]\n",
      "[[ 0.42382812  0.        ]\n",
      " [ 0.51464844  0.        ]]\n"
     ]
    }
   ],
   "source": [
    "import cv2\n",
    "import numpy as np\n",
    "shift = np.array([1.02354748, 1.452636718749999])\n",
    "A = np.eye(2)\n",
    "aff = np.c_[A, shift[:, None]]\n",
    "shape = (10, 10)\n",
    "arr = np.eye(100)[81].reshape(shape)\n",
    "print cv2.warpAffine(arr, aff, shape, borderMode=cv2.BORDER_CONSTANT,\n",
    "                     flags=cv2.INTER_LINEAR | cv2.WARP_INVERSE_MAP, borderValue=0)[6:8, :2]\n",
    "shift = np.array([1.02354748, 1.4526367187499991])\n",
    "A = np.eye(2)\n",
    "aff = np.c_[A, shift[:, None]]\n",
    "arr = np.eye(100)[81].reshape(shape)\n",
    "print cv2.warpAffine(arr, aff, shape, borderMode=cv2.BORDER_CONSTANT,\n",
    "                     flags=cv2.INTER_LINEAR | cv2.WARP_INVERSE_MAP, borderValue=0)[6:8, :2]"
   ]
  }
 ],
 "metadata": {
  "kernelspec": {
   "display_name": "Python 2",
   "language": "python",
   "name": "python2"
  },
  "language_info": {
   "codemirror_mode": {
    "name": "ipython",
    "version": 2
   },
   "file_extension": ".py",
   "mimetype": "text/x-python",
   "name": "python",
   "nbconvert_exporter": "python",
   "pygments_lexer": "ipython2",
   "version": "2.7.16"
  }
 },
 "nbformat": 4,
 "nbformat_minor": 2
}
